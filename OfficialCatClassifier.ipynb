{
 "cells": [
  {
   "cell_type": "code",
   "execution_count": 1,
   "id": "594a9ec8-55d4-4814-8b06-9a41925c6420",
   "metadata": {},
   "outputs": [],
   "source": [
    "from fastbook import *\n",
    "from fastai.vision.all import *\n",
    "from fastai.vision.widgets import *"
   ]
  },
  {
   "cell_type": "code",
   "execution_count": 3,
   "id": "1caebe95-020c-4c1f-98eb-ef0acd4ed48f",
   "metadata": {},
   "outputs": [],
   "source": [
    "path = Path()\n",
    "learn_inf= load_learner(path/'export.pkl')"
   ]
  },
  {
   "cell_type": "code",
   "execution_count": 4,
   "id": "6aaaf3a0-17f8-4b92-8429-71a4b0a67f93",
   "metadata": {},
   "outputs": [],
   "source": [
    "btn_upload = widgets.FileUpload()\n",
    "out_pl = widgets.Output()\n",
    "lbl_pred = widgets.Label()\n",
    "btn_run = widgets.Button(description='Classify')"
   ]
  },
  {
   "cell_type": "code",
   "execution_count": 5,
   "id": "60c19185-685c-4c84-8e18-8c58fa37db73",
   "metadata": {},
   "outputs": [],
   "source": [
    "def on_click_classify(change):\n",
    "    img = PILImage.create(btn_upload.data[-1])\n",
    "    out_pl.clear_output()\n",
    "    with out_pl: display(img.to_thumb(224,224))\n",
    "    pred,pred_idx,probs = learn_inf.predict(img)\n",
    "    lbl_pred.value = f'Prediction: {pred}; Probability: {probs[pred_idx]:.04f}'\n",
    "\n",
    "btn_run.on_click(on_click_classify)"
   ]
  },
  {
   "cell_type": "code",
   "execution_count": 18,
   "id": "f13e2655-d456-4bff-bbc8-9f129b30aa61",
   "metadata": {},
   "outputs": [
    {
     "data": {
      "application/vnd.jupyter.widget-view+json": {
       "model_id": "b523c1bdfedc485d8599b91844a2d58b",
       "version_major": 2,
       "version_minor": 0
      },
      "text/plain": [
       "VBox(children=(Label(value='Upload your cat!'), FileUpload(value={}, description='Upload'), Button(description…"
      ]
     },
     "metadata": {},
     "output_type": "display_data"
    }
   ],
   "source": [
    "VBox([widgets.Label('Upload your cat!'),\n",
    "     btn_upload, btn_run, out_pl, lbl_pred])"
   ]
  },
  {
   "cell_type": "code",
   "execution_count": 16,
   "id": "8648c22f-5a2d-4cca-976c-abf1316cea86",
   "metadata": {},
   "outputs": [
    {
     "name": "stdout",
     "output_type": "stream",
     "text": [
      "Collecting ipywidgets==7.8.1\n",
      "  Downloading ipywidgets-7.8.1-py2.py3-none-any.whl (124 kB)\n",
      "     -------------------------------------- 124.2/124.2 kB 1.5 MB/s eta 0:00:00\n",
      "Requirement already satisfied: ipython>=4.0.0 in c:\\users\\gavin\\anaconda3\\lib\\site-packages (from ipywidgets==7.8.1) (7.31.1)\n",
      "Collecting widgetsnbextension~=3.6.6\n",
      "  Downloading widgetsnbextension-3.6.6-py2.py3-none-any.whl (1.6 MB)\n",
      "     ---------------------------------------- 1.6/1.6 MB 2.7 MB/s eta 0:00:00\n",
      "Requirement already satisfied: traitlets>=4.3.1 in c:\\users\\gavin\\anaconda3\\lib\\site-packages (from ipywidgets==7.8.1) (5.14.3)\n",
      "Requirement already satisfied: comm>=0.1.3 in c:\\users\\gavin\\anaconda3\\lib\\site-packages (from ipywidgets==7.8.1) (0.2.2)\n",
      "Requirement already satisfied: ipython-genutils~=0.2.0 in c:\\users\\gavin\\anaconda3\\lib\\site-packages (from ipywidgets==7.8.1) (0.2.0)\n",
      "Collecting jupyterlab-widgets<3,>=1.0.0\n",
      "  Downloading jupyterlab_widgets-1.1.7-py3-none-any.whl (295 kB)\n",
      "     -------------------------------------- 295.4/295.4 kB 3.7 MB/s eta 0:00:00\n",
      "Requirement already satisfied: jedi>=0.16 in c:\\users\\gavin\\anaconda3\\lib\\site-packages (from ipython>=4.0.0->ipywidgets==7.8.1) (0.18.1)\n",
      "Requirement already satisfied: decorator in c:\\users\\gavin\\anaconda3\\lib\\site-packages (from ipython>=4.0.0->ipywidgets==7.8.1) (5.1.1)\n",
      "Requirement already satisfied: pickleshare in c:\\users\\gavin\\anaconda3\\lib\\site-packages (from ipython>=4.0.0->ipywidgets==7.8.1) (0.7.5)\n",
      "Requirement already satisfied: matplotlib-inline in c:\\users\\gavin\\anaconda3\\lib\\site-packages (from ipython>=4.0.0->ipywidgets==7.8.1) (0.1.6)\n",
      "Requirement already satisfied: colorama in c:\\users\\gavin\\anaconda3\\lib\\site-packages (from ipython>=4.0.0->ipywidgets==7.8.1) (0.4.6)\n",
      "Requirement already satisfied: pygments in c:\\users\\gavin\\anaconda3\\lib\\site-packages (from ipython>=4.0.0->ipywidgets==7.8.1) (2.11.2)\n",
      "Requirement already satisfied: setuptools>=18.5 in c:\\users\\gavin\\anaconda3\\lib\\site-packages (from ipython>=4.0.0->ipywidgets==7.8.1) (63.4.1)\n",
      "Requirement already satisfied: backcall in c:\\users\\gavin\\anaconda3\\lib\\site-packages (from ipython>=4.0.0->ipywidgets==7.8.1) (0.2.0)\n",
      "Requirement already satisfied: prompt-toolkit!=3.0.0,!=3.0.1,<3.1.0,>=2.0.0 in c:\\users\\gavin\\anaconda3\\lib\\site-packages (from ipython>=4.0.0->ipywidgets==7.8.1) (3.0.20)\n",
      "Requirement already satisfied: notebook>=4.4.1 in c:\\users\\gavin\\anaconda3\\lib\\site-packages (from widgetsnbextension~=3.6.6->ipywidgets==7.8.1) (7.1.3)\n",
      "Requirement already satisfied: parso<0.9.0,>=0.8.0 in c:\\users\\gavin\\anaconda3\\lib\\site-packages (from jedi>=0.16->ipython>=4.0.0->ipywidgets==7.8.1) (0.8.3)\n",
      "Requirement already satisfied: jupyter-server<3,>=2.4.0 in c:\\users\\gavin\\anaconda3\\lib\\site-packages (from notebook>=4.4.1->widgetsnbextension~=3.6.6->ipywidgets==7.8.1) (2.14.0)\n",
      "Requirement already satisfied: jupyterlab-server<3,>=2.22.1 in c:\\users\\gavin\\anaconda3\\lib\\site-packages (from notebook>=4.4.1->widgetsnbextension~=3.6.6->ipywidgets==7.8.1) (2.27.1)\n",
      "Requirement already satisfied: notebook-shim<0.3,>=0.2 in c:\\users\\gavin\\anaconda3\\lib\\site-packages (from notebook>=4.4.1->widgetsnbextension~=3.6.6->ipywidgets==7.8.1) (0.2.4)\n",
      "Requirement already satisfied: tornado>=6.2.0 in c:\\users\\gavin\\anaconda3\\lib\\site-packages (from notebook>=4.4.1->widgetsnbextension~=3.6.6->ipywidgets==7.8.1) (6.4)\n",
      "Requirement already satisfied: jupyterlab<4.2,>=4.1.1 in c:\\users\\gavin\\anaconda3\\lib\\site-packages (from notebook>=4.4.1->widgetsnbextension~=3.6.6->ipywidgets==7.8.1) (4.1.8)\n",
      "Requirement already satisfied: wcwidth in c:\\users\\gavin\\anaconda3\\lib\\site-packages (from prompt-toolkit!=3.0.0,!=3.0.1,<3.1.0,>=2.0.0->ipython>=4.0.0->ipywidgets==7.8.1) (0.2.5)\n",
      "Requirement already satisfied: pyzmq>=24 in c:\\users\\gavin\\anaconda3\\lib\\site-packages (from jupyter-server<3,>=2.4.0->notebook>=4.4.1->widgetsnbextension~=3.6.6->ipywidgets==7.8.1) (26.0.3)\n",
      "Requirement already satisfied: packaging>=22.0 in c:\\users\\gavin\\anaconda3\\lib\\site-packages (from jupyter-server<3,>=2.4.0->notebook>=4.4.1->widgetsnbextension~=3.6.6->ipywidgets==7.8.1) (24.0)\n",
      "Requirement already satisfied: anyio>=3.1.0 in c:\\users\\gavin\\anaconda3\\lib\\site-packages (from jupyter-server<3,>=2.4.0->notebook>=4.4.1->widgetsnbextension~=3.6.6->ipywidgets==7.8.1) (3.5.0)\n",
      "Requirement already satisfied: jupyter-events>=0.9.0 in c:\\users\\gavin\\anaconda3\\lib\\site-packages (from jupyter-server<3,>=2.4.0->notebook>=4.4.1->widgetsnbextension~=3.6.6->ipywidgets==7.8.1) (0.10.0)\n",
      "Requirement already satisfied: jupyter-core!=5.0.*,>=4.12 in c:\\users\\gavin\\anaconda3\\lib\\site-packages (from jupyter-server<3,>=2.4.0->notebook>=4.4.1->widgetsnbextension~=3.6.6->ipywidgets==7.8.1) (5.7.2)\n",
      "Requirement already satisfied: pywinpty>=2.0.1 in c:\\users\\gavin\\anaconda3\\lib\\site-packages (from jupyter-server<3,>=2.4.0->notebook>=4.4.1->widgetsnbextension~=3.6.6->ipywidgets==7.8.1) (2.0.13)\n",
      "Requirement already satisfied: jupyter-server-terminals>=0.4.4 in c:\\users\\gavin\\anaconda3\\lib\\site-packages (from jupyter-server<3,>=2.4.0->notebook>=4.4.1->widgetsnbextension~=3.6.6->ipywidgets==7.8.1) (0.5.3)\n",
      "Requirement already satisfied: terminado>=0.8.3 in c:\\users\\gavin\\anaconda3\\lib\\site-packages (from jupyter-server<3,>=2.4.0->notebook>=4.4.1->widgetsnbextension~=3.6.6->ipywidgets==7.8.1) (0.13.1)\n",
      "Requirement already satisfied: send2trash>=1.8.2 in c:\\users\\gavin\\anaconda3\\lib\\site-packages (from jupyter-server<3,>=2.4.0->notebook>=4.4.1->widgetsnbextension~=3.6.6->ipywidgets==7.8.1) (1.8.3)\n",
      "Requirement already satisfied: overrides>=5.0 in c:\\users\\gavin\\anaconda3\\lib\\site-packages (from jupyter-server<3,>=2.4.0->notebook>=4.4.1->widgetsnbextension~=3.6.6->ipywidgets==7.8.1) (7.7.0)\n",
      "Requirement already satisfied: jupyter-client>=7.4.4 in c:\\users\\gavin\\anaconda3\\lib\\site-packages (from jupyter-server<3,>=2.4.0->notebook>=4.4.1->widgetsnbextension~=3.6.6->ipywidgets==7.8.1) (8.6.1)\n",
      "Requirement already satisfied: nbformat>=5.3.0 in c:\\users\\gavin\\anaconda3\\lib\\site-packages (from jupyter-server<3,>=2.4.0->notebook>=4.4.1->widgetsnbextension~=3.6.6->ipywidgets==7.8.1) (5.10.4)\n",
      "Requirement already satisfied: jinja2>=3.0.3 in c:\\users\\gavin\\anaconda3\\lib\\site-packages (from jupyter-server<3,>=2.4.0->notebook>=4.4.1->widgetsnbextension~=3.6.6->ipywidgets==7.8.1) (3.1.4)\n",
      "Requirement already satisfied: argon2-cffi>=21.1 in c:\\users\\gavin\\anaconda3\\lib\\site-packages (from jupyter-server<3,>=2.4.0->notebook>=4.4.1->widgetsnbextension~=3.6.6->ipywidgets==7.8.1) (21.3.0)\n",
      "Requirement already satisfied: nbconvert>=6.4.4 in c:\\users\\gavin\\anaconda3\\lib\\site-packages (from jupyter-server<3,>=2.4.0->notebook>=4.4.1->widgetsnbextension~=3.6.6->ipywidgets==7.8.1) (7.16.4)\n",
      "Requirement already satisfied: prometheus-client>=0.9 in c:\\users\\gavin\\anaconda3\\lib\\site-packages (from jupyter-server<3,>=2.4.0->notebook>=4.4.1->widgetsnbextension~=3.6.6->ipywidgets==7.8.1) (0.14.1)\n",
      "Requirement already satisfied: websocket-client>=1.7 in c:\\users\\gavin\\anaconda3\\lib\\site-packages (from jupyter-server<3,>=2.4.0->notebook>=4.4.1->widgetsnbextension~=3.6.6->ipywidgets==7.8.1) (1.8.0)\n",
      "Requirement already satisfied: async-lru>=1.0.0 in c:\\users\\gavin\\anaconda3\\lib\\site-packages (from jupyterlab<4.2,>=4.1.1->notebook>=4.4.1->widgetsnbextension~=3.6.6->ipywidgets==7.8.1) (2.0.4)\n",
      "Requirement already satisfied: httpx>=0.25.0 in c:\\users\\gavin\\anaconda3\\lib\\site-packages (from jupyterlab<4.2,>=4.1.1->notebook>=4.4.1->widgetsnbextension~=3.6.6->ipywidgets==7.8.1) (0.27.0)\n",
      "Requirement already satisfied: tomli>=1.2.2 in c:\\users\\gavin\\anaconda3\\lib\\site-packages (from jupyterlab<4.2,>=4.1.1->notebook>=4.4.1->widgetsnbextension~=3.6.6->ipywidgets==7.8.1) (2.0.1)\n",
      "Requirement already satisfied: ipykernel>=6.5.0 in c:\\users\\gavin\\anaconda3\\lib\\site-packages (from jupyterlab<4.2,>=4.1.1->notebook>=4.4.1->widgetsnbextension~=3.6.6->ipywidgets==7.8.1) (6.15.2)\n",
      "Requirement already satisfied: jupyter-lsp>=2.0.0 in c:\\users\\gavin\\anaconda3\\lib\\site-packages (from jupyterlab<4.2,>=4.1.1->notebook>=4.4.1->widgetsnbextension~=3.6.6->ipywidgets==7.8.1) (2.2.5)\n",
      "Requirement already satisfied: importlib-metadata>=4.8.3 in c:\\users\\gavin\\anaconda3\\lib\\site-packages (from jupyterlab<4.2,>=4.1.1->notebook>=4.4.1->widgetsnbextension~=3.6.6->ipywidgets==7.8.1) (4.11.3)\n",
      "Requirement already satisfied: json5>=0.9.0 in c:\\users\\gavin\\anaconda3\\lib\\site-packages (from jupyterlab-server<3,>=2.22.1->notebook>=4.4.1->widgetsnbextension~=3.6.6->ipywidgets==7.8.1) (0.9.6)\n",
      "Requirement already satisfied: babel>=2.10 in c:\\users\\gavin\\anaconda3\\lib\\site-packages (from jupyterlab-server<3,>=2.22.1->notebook>=4.4.1->widgetsnbextension~=3.6.6->ipywidgets==7.8.1) (2.15.0)\n",
      "Requirement already satisfied: requests>=2.31 in c:\\users\\gavin\\anaconda3\\lib\\site-packages (from jupyterlab-server<3,>=2.22.1->notebook>=4.4.1->widgetsnbextension~=3.6.6->ipywidgets==7.8.1) (2.31.0)\n",
      "Requirement already satisfied: jsonschema>=4.18.0 in c:\\users\\gavin\\anaconda3\\lib\\site-packages (from jupyterlab-server<3,>=2.22.1->notebook>=4.4.1->widgetsnbextension~=3.6.6->ipywidgets==7.8.1) (4.22.0)\n",
      "Requirement already satisfied: idna>=2.8 in c:\\users\\gavin\\anaconda3\\lib\\site-packages (from anyio>=3.1.0->jupyter-server<3,>=2.4.0->notebook>=4.4.1->widgetsnbextension~=3.6.6->ipywidgets==7.8.1) (3.3)\n",
      "Requirement already satisfied: sniffio>=1.1 in c:\\users\\gavin\\anaconda3\\lib\\site-packages (from anyio>=3.1.0->jupyter-server<3,>=2.4.0->notebook>=4.4.1->widgetsnbextension~=3.6.6->ipywidgets==7.8.1) (1.2.0)\n",
      "Requirement already satisfied: argon2-cffi-bindings in c:\\users\\gavin\\anaconda3\\lib\\site-packages (from argon2-cffi>=21.1->jupyter-server<3,>=2.4.0->notebook>=4.4.1->widgetsnbextension~=3.6.6->ipywidgets==7.8.1) (21.2.0)\n",
      "Requirement already satisfied: typing-extensions>=4.0.0 in c:\\users\\gavin\\anaconda3\\lib\\site-packages (from async-lru>=1.0.0->jupyterlab<4.2,>=4.1.1->notebook>=4.4.1->widgetsnbextension~=3.6.6->ipywidgets==7.8.1) (4.10.0)\n",
      "Requirement already satisfied: certifi in c:\\users\\gavin\\anaconda3\\lib\\site-packages (from httpx>=0.25.0->jupyterlab<4.2,>=4.1.1->notebook>=4.4.1->widgetsnbextension~=3.6.6->ipywidgets==7.8.1) (2022.9.14)\n",
      "Requirement already satisfied: httpcore==1.* in c:\\users\\gavin\\anaconda3\\lib\\site-packages (from httpx>=0.25.0->jupyterlab<4.2,>=4.1.1->notebook>=4.4.1->widgetsnbextension~=3.6.6->ipywidgets==7.8.1) (1.0.5)\n",
      "Requirement already satisfied: h11<0.15,>=0.13 in c:\\users\\gavin\\anaconda3\\lib\\site-packages (from httpcore==1.*->httpx>=0.25.0->jupyterlab<4.2,>=4.1.1->notebook>=4.4.1->widgetsnbextension~=3.6.6->ipywidgets==7.8.1) (0.14.0)\n",
      "Requirement already satisfied: zipp>=0.5 in c:\\users\\gavin\\anaconda3\\lib\\site-packages (from importlib-metadata>=4.8.3->jupyterlab<4.2,>=4.1.1->notebook>=4.4.1->widgetsnbextension~=3.6.6->ipywidgets==7.8.1) (3.8.0)\n",
      "Requirement already satisfied: debugpy>=1.0 in c:\\users\\gavin\\anaconda3\\lib\\site-packages (from ipykernel>=6.5.0->jupyterlab<4.2,>=4.1.1->notebook>=4.4.1->widgetsnbextension~=3.6.6->ipywidgets==7.8.1) (1.5.1)\n",
      "Requirement already satisfied: nest-asyncio in c:\\users\\gavin\\anaconda3\\lib\\site-packages (from ipykernel>=6.5.0->jupyterlab<4.2,>=4.1.1->notebook>=4.4.1->widgetsnbextension~=3.6.6->ipywidgets==7.8.1) (1.5.5)\n",
      "Requirement already satisfied: psutil in c:\\users\\gavin\\anaconda3\\lib\\site-packages (from ipykernel>=6.5.0->jupyterlab<4.2,>=4.1.1->notebook>=4.4.1->widgetsnbextension~=3.6.6->ipywidgets==7.8.1) (5.9.0)\n",
      "Requirement already satisfied: MarkupSafe>=2.0 in c:\\users\\gavin\\anaconda3\\lib\\site-packages (from jinja2>=3.0.3->jupyter-server<3,>=2.4.0->notebook>=4.4.1->widgetsnbextension~=3.6.6->ipywidgets==7.8.1) (2.0.1)\n",
      "Requirement already satisfied: rpds-py>=0.7.1 in c:\\users\\gavin\\anaconda3\\lib\\site-packages (from jsonschema>=4.18.0->jupyterlab-server<3,>=2.22.1->notebook>=4.4.1->widgetsnbextension~=3.6.6->ipywidgets==7.8.1) (0.18.1)\n",
      "Requirement already satisfied: attrs>=22.2.0 in c:\\users\\gavin\\anaconda3\\lib\\site-packages (from jsonschema>=4.18.0->jupyterlab-server<3,>=2.22.1->notebook>=4.4.1->widgetsnbextension~=3.6.6->ipywidgets==7.8.1) (23.2.0)\n",
      "Requirement already satisfied: referencing>=0.28.4 in c:\\users\\gavin\\anaconda3\\lib\\site-packages (from jsonschema>=4.18.0->jupyterlab-server<3,>=2.22.1->notebook>=4.4.1->widgetsnbextension~=3.6.6->ipywidgets==7.8.1) (0.35.1)\n",
      "Requirement already satisfied: jsonschema-specifications>=2023.03.6 in c:\\users\\gavin\\anaconda3\\lib\\site-packages (from jsonschema>=4.18.0->jupyterlab-server<3,>=2.22.1->notebook>=4.4.1->widgetsnbextension~=3.6.6->ipywidgets==7.8.1) (2023.12.1)\n",
      "Requirement already satisfied: python-dateutil>=2.8.2 in c:\\users\\gavin\\anaconda3\\lib\\site-packages (from jupyter-client>=7.4.4->jupyter-server<3,>=2.4.0->notebook>=4.4.1->widgetsnbextension~=3.6.6->ipywidgets==7.8.1) (2.8.2)\n",
      "Requirement already satisfied: pywin32>=300 in c:\\users\\gavin\\anaconda3\\lib\\site-packages (from jupyter-core!=5.0.*,>=4.12->jupyter-server<3,>=2.4.0->notebook>=4.4.1->widgetsnbextension~=3.6.6->ipywidgets==7.8.1) (302)\n",
      "Requirement already satisfied: platformdirs>=2.5 in c:\\users\\gavin\\anaconda3\\lib\\site-packages (from jupyter-core!=5.0.*,>=4.12->jupyter-server<3,>=2.4.0->notebook>=4.4.1->widgetsnbextension~=3.6.6->ipywidgets==7.8.1) (2.5.2)\n",
      "Requirement already satisfied: pyyaml>=5.3 in c:\\users\\gavin\\anaconda3\\lib\\site-packages (from jupyter-events>=0.9.0->jupyter-server<3,>=2.4.0->notebook>=4.4.1->widgetsnbextension~=3.6.6->ipywidgets==7.8.1) (6.0)\n",
      "Requirement already satisfied: rfc3339-validator in c:\\users\\gavin\\anaconda3\\lib\\site-packages (from jupyter-events>=0.9.0->jupyter-server<3,>=2.4.0->notebook>=4.4.1->widgetsnbextension~=3.6.6->ipywidgets==7.8.1) (0.1.4)\n",
      "Requirement already satisfied: python-json-logger>=2.0.4 in c:\\users\\gavin\\anaconda3\\lib\\site-packages (from jupyter-events>=0.9.0->jupyter-server<3,>=2.4.0->notebook>=4.4.1->widgetsnbextension~=3.6.6->ipywidgets==7.8.1) (2.0.7)\n",
      "Requirement already satisfied: rfc3986-validator>=0.1.1 in c:\\users\\gavin\\anaconda3\\lib\\site-packages (from jupyter-events>=0.9.0->jupyter-server<3,>=2.4.0->notebook>=4.4.1->widgetsnbextension~=3.6.6->ipywidgets==7.8.1) (0.1.1)\n",
      "Requirement already satisfied: defusedxml in c:\\users\\gavin\\anaconda3\\lib\\site-packages (from nbconvert>=6.4.4->jupyter-server<3,>=2.4.0->notebook>=4.4.1->widgetsnbextension~=3.6.6->ipywidgets==7.8.1) (0.7.1)\n",
      "Requirement already satisfied: pandocfilters>=1.4.1 in c:\\users\\gavin\\anaconda3\\lib\\site-packages (from nbconvert>=6.4.4->jupyter-server<3,>=2.4.0->notebook>=4.4.1->widgetsnbextension~=3.6.6->ipywidgets==7.8.1) (1.5.0)\n",
      "Requirement already satisfied: beautifulsoup4 in c:\\users\\gavin\\anaconda3\\lib\\site-packages (from nbconvert>=6.4.4->jupyter-server<3,>=2.4.0->notebook>=4.4.1->widgetsnbextension~=3.6.6->ipywidgets==7.8.1) (4.11.1)\n",
      "Requirement already satisfied: nbclient>=0.5.0 in c:\\users\\gavin\\anaconda3\\lib\\site-packages (from nbconvert>=6.4.4->jupyter-server<3,>=2.4.0->notebook>=4.4.1->widgetsnbextension~=3.6.6->ipywidgets==7.8.1) (0.5.13)\n",
      "Requirement already satisfied: tinycss2 in c:\\users\\gavin\\anaconda3\\lib\\site-packages (from nbconvert>=6.4.4->jupyter-server<3,>=2.4.0->notebook>=4.4.1->widgetsnbextension~=3.6.6->ipywidgets==7.8.1) (1.3.0)\n",
      "Requirement already satisfied: bleach!=5.0.0 in c:\\users\\gavin\\anaconda3\\lib\\site-packages (from nbconvert>=6.4.4->jupyter-server<3,>=2.4.0->notebook>=4.4.1->widgetsnbextension~=3.6.6->ipywidgets==7.8.1) (4.1.0)\n",
      "Requirement already satisfied: jupyterlab-pygments in c:\\users\\gavin\\anaconda3\\lib\\site-packages (from nbconvert>=6.4.4->jupyter-server<3,>=2.4.0->notebook>=4.4.1->widgetsnbextension~=3.6.6->ipywidgets==7.8.1) (0.1.2)\n",
      "Requirement already satisfied: mistune<4,>=2.0.3 in c:\\users\\gavin\\anaconda3\\lib\\site-packages (from nbconvert>=6.4.4->jupyter-server<3,>=2.4.0->notebook>=4.4.1->widgetsnbextension~=3.6.6->ipywidgets==7.8.1) (3.0.2)\n",
      "Requirement already satisfied: fastjsonschema>=2.15 in c:\\users\\gavin\\anaconda3\\lib\\site-packages (from nbformat>=5.3.0->jupyter-server<3,>=2.4.0->notebook>=4.4.1->widgetsnbextension~=3.6.6->ipywidgets==7.8.1) (2.16.2)\n",
      "Requirement already satisfied: charset-normalizer<4,>=2 in c:\\users\\gavin\\anaconda3\\lib\\site-packages (from requests>=2.31->jupyterlab-server<3,>=2.22.1->notebook>=4.4.1->widgetsnbextension~=3.6.6->ipywidgets==7.8.1) (2.0.4)\n",
      "Requirement already satisfied: urllib3<3,>=1.21.1 in c:\\users\\gavin\\anaconda3\\lib\\site-packages (from requests>=2.31->jupyterlab-server<3,>=2.22.1->notebook>=4.4.1->widgetsnbextension~=3.6.6->ipywidgets==7.8.1) (1.26.11)\n",
      "Requirement already satisfied: six>=1.9.0 in c:\\users\\gavin\\anaconda3\\lib\\site-packages (from bleach!=5.0.0->nbconvert>=6.4.4->jupyter-server<3,>=2.4.0->notebook>=4.4.1->widgetsnbextension~=3.6.6->ipywidgets==7.8.1) (1.16.0)\n",
      "Requirement already satisfied: webencodings in c:\\users\\gavin\\anaconda3\\lib\\site-packages (from bleach!=5.0.0->nbconvert>=6.4.4->jupyter-server<3,>=2.4.0->notebook>=4.4.1->widgetsnbextension~=3.6.6->ipywidgets==7.8.1) (0.5.1)\n",
      "Requirement already satisfied: uri-template in c:\\users\\gavin\\anaconda3\\lib\\site-packages (from jsonschema>=4.18.0->jupyterlab-server<3,>=2.22.1->notebook>=4.4.1->widgetsnbextension~=3.6.6->ipywidgets==7.8.1) (1.3.0)\n",
      "Requirement already satisfied: jsonpointer>1.13 in c:\\users\\gavin\\anaconda3\\lib\\site-packages (from jsonschema>=4.18.0->jupyterlab-server<3,>=2.22.1->notebook>=4.4.1->widgetsnbextension~=3.6.6->ipywidgets==7.8.1) (2.4)\n",
      "Requirement already satisfied: webcolors>=1.11 in c:\\users\\gavin\\anaconda3\\lib\\site-packages (from jsonschema>=4.18.0->jupyterlab-server<3,>=2.22.1->notebook>=4.4.1->widgetsnbextension~=3.6.6->ipywidgets==7.8.1) (1.13)\n",
      "Requirement already satisfied: fqdn in c:\\users\\gavin\\anaconda3\\lib\\site-packages (from jsonschema>=4.18.0->jupyterlab-server<3,>=2.22.1->notebook>=4.4.1->widgetsnbextension~=3.6.6->ipywidgets==7.8.1) (1.5.1)\n",
      "Requirement already satisfied: isoduration in c:\\users\\gavin\\anaconda3\\lib\\site-packages (from jsonschema>=4.18.0->jupyterlab-server<3,>=2.22.1->notebook>=4.4.1->widgetsnbextension~=3.6.6->ipywidgets==7.8.1) (20.11.0)\n",
      "Requirement already satisfied: cffi>=1.0.1 in c:\\users\\gavin\\anaconda3\\lib\\site-packages (from argon2-cffi-bindings->argon2-cffi>=21.1->jupyter-server<3,>=2.4.0->notebook>=4.4.1->widgetsnbextension~=3.6.6->ipywidgets==7.8.1) (1.15.1)\n",
      "Requirement already satisfied: soupsieve>1.2 in c:\\users\\gavin\\anaconda3\\lib\\site-packages (from beautifulsoup4->nbconvert>=6.4.4->jupyter-server<3,>=2.4.0->notebook>=4.4.1->widgetsnbextension~=3.6.6->ipywidgets==7.8.1) (2.3.1)\n",
      "Requirement already satisfied: pycparser in c:\\users\\gavin\\anaconda3\\lib\\site-packages (from cffi>=1.0.1->argon2-cffi-bindings->argon2-cffi>=21.1->jupyter-server<3,>=2.4.0->notebook>=4.4.1->widgetsnbextension~=3.6.6->ipywidgets==7.8.1) (2.21)\n",
      "Requirement already satisfied: arrow>=0.15.0 in c:\\users\\gavin\\anaconda3\\lib\\site-packages (from isoduration->jsonschema>=4.18.0->jupyterlab-server<3,>=2.22.1->notebook>=4.4.1->widgetsnbextension~=3.6.6->ipywidgets==7.8.1) (1.2.2)\n",
      "Installing collected packages: jupyterlab-widgets, widgetsnbextension, ipywidgets\n",
      "  Attempting uninstall: jupyterlab-widgets\n",
      "    Found existing installation: jupyterlab_widgets 3.0.10\n",
      "    Uninstalling jupyterlab_widgets-3.0.10:\n",
      "      Successfully uninstalled jupyterlab_widgets-3.0.10\n",
      "  Attempting uninstall: widgetsnbextension\n",
      "    Found existing installation: widgetsnbextension 4.0.10\n",
      "    Uninstalling widgetsnbextension-4.0.10:\n",
      "      Successfully uninstalled widgetsnbextension-4.0.10\n",
      "  Attempting uninstall: ipywidgets\n",
      "    Found existing installation: ipywidgets 8.0.0\n",
      "    Uninstalling ipywidgets-8.0.0:\n",
      "      Successfully uninstalled ipywidgets-8.0.0\n",
      "Successfully installed ipywidgets-7.8.1 jupyterlab-widgets-1.1.7 widgetsnbextension-3.6.6\n"
     ]
    }
   ],
   "source": [
    "!pip install --upgrade ipywidgets==7.8.1"
   ]
  },
  {
   "cell_type": "code",
   "execution_count": null,
   "id": "6fcc90ea-be10-4a02-a13b-48640dc9180e",
   "metadata": {},
   "outputs": [],
   "source": []
  }
 ],
 "metadata": {
  "kernelspec": {
   "display_name": "Python 3 (ipykernel)",
   "language": "python",
   "name": "python3"
  },
  "language_info": {
   "codemirror_mode": {
    "name": "ipython",
    "version": 3
   },
   "file_extension": ".py",
   "mimetype": "text/x-python",
   "name": "python",
   "nbconvert_exporter": "python",
   "pygments_lexer": "ipython3",
   "version": "3.9.13"
  }
 },
 "nbformat": 4,
 "nbformat_minor": 5
}
